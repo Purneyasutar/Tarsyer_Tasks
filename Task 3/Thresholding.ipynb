{
 "cells": [
  {
   "cell_type": "code",
   "execution_count": null,
   "id": "721291c5",
   "metadata": {},
   "outputs": [],
   "source": [
    "import cv2\n",
    "\n",
    "image_path = \"C:/Users/kaush/Downloads/Task_3.jpg\"  \n",
    "image = cv2.imread(image_path, cv2.IMREAD_GRAYSCALE)\n",
    "\n",
    "blurred = cv2.GaussianBlur(image, (7, 7), 0)\n",
    "\n",
    "_, simple_threshold = cv2.threshold(blurred, 128, 255, cv2.THRESH_BINARY)\n",
    "\n",
    "adaptive_mean_threshold = cv2.adaptiveThreshold(blurred, 255, cv2.ADAPTIVE_THRESH_MEAN_C, cv2.THRESH_BINARY, 11, 2)\n",
    "\n",
    "adaptive_gaussian_threshold = cv2.adaptiveThreshold(blurred, 255, cv2.ADAPTIVE_THRESH_GAUSSIAN_C, cv2.THRESH_BINARY, 11, 2)\n",
    "\n",
    "cv2.imwrite('C:/Users/kaush/Downloads/Task_3_simple.jpg', simple_threshold)\n",
    "cv2.imwrite('C:/Users/kaush/Downloads/Task_3_adaptive_mean.jpg', adaptive_mean_threshold)\n",
    "cv2.imwrite('C:/Users/kaush/Downloads/Task_3_adaptive_gaussian.jpg', adaptive_gaussian_threshold)\n",
    "\n",
    "cv2.imshow('Original Image', image)\n",
    "cv2.imshow('Simple Threshold', simple_threshold)\n",
    "cv2.imshow('Adaptive Mean Threshold', adaptive_mean_threshold)\n",
    "cv2.imshow('Adaptive Gaussian Threshold', adaptive_gaussian_threshold)\n",
    "cv2.waitKey(0)\n",
    "cv2.destroyAllWindows()\n"
   ]
  },
  {
   "cell_type": "code",
   "execution_count": null,
   "id": "b294dd1e",
   "metadata": {},
   "outputs": [],
   "source": []
  }
 ],
 "metadata": {
  "kernelspec": {
   "display_name": "Python 3 (ipykernel)",
   "language": "python",
   "name": "python3"
  },
  "language_info": {
   "codemirror_mode": {
    "name": "ipython",
    "version": 3
   },
   "file_extension": ".py",
   "mimetype": "text/x-python",
   "name": "python",
   "nbconvert_exporter": "python",
   "pygments_lexer": "ipython3",
   "version": "3.11.5"
  }
 },
 "nbformat": 4,
 "nbformat_minor": 5
}
