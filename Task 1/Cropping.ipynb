{
 "cells": [
  {
   "cell_type": "code",
   "execution_count": 4,
   "id": "d3881ef8",
   "metadata": {},
   "outputs": [],
   "source": [
    "import cv2\n",
    "\n",
    "path = \"C:/Users/kaush/Downloads/Task_1.jpg\"  \n",
    "image = cv2.imread(path)\n",
    "\n",
    "cv2.imshow('Select Region to Crop', image)\n",
    "\n",
    "rect_box = cv2.selectROI('Select Region to Crop', image, fromCenter=False, showCrosshair=True)\n",
    "cv2.destroyWindow('Select Region to Crop')\n",
    "\n",
    "x, y, w, h = rect_box\n",
    "cropped_image = image[y:y + h, x:x + w]\n",
    "\n",
    "cv2.imwrite('C:/Users/kaush/Downloads/Task_1_cropped.jpg', cropped_image)\n",
    "\n",
    "image_with_insights = image.copy()\n",
    "cv2.rectangle(image_with_insights, (x, y), (x + w, y + h), (0, 255, 0), 2)\n",
    "\n",
    "font = cv2.FONT_HERSHEY_SIMPLEX\n",
    "cv2.putText(image_with_insights, f'Top Left: ({x}, {y})', (x, y - 10), font, 0.5, (0, 255, 0), 1, cv2.LINE_AA)\n",
    "cv2.putText(image_with_insights, f'Bottom Right: ({x + w}, {y + h})', (x, y + h + 20), font, 0.5, (0, 255, 0), 1, cv2.LINE_AA)\n",
    "\n",
    "cv2.imwrite('C:/Users/kaush/Downloads/Task_1_insights.jpg', image_with_insights)\n",
    "\n",
    "cv2.imshow('Cropped Image', cropped_image)\n",
    "cv2.imshow('Image with Insights', image_with_insights)\n",
    "cv2.waitKey(0)\n",
    "cv2.destroyAllWindows()"
   ]
  }
 ],
 "metadata": {
  "kernelspec": {
   "display_name": "Python 3 (ipykernel)",
   "language": "python",
   "name": "python3"
  },
  "language_info": {
   "codemirror_mode": {
    "name": "ipython",
    "version": 3
   },
   "file_extension": ".py",
   "mimetype": "text/x-python",
   "name": "python",
   "nbconvert_exporter": "python",
   "pygments_lexer": "ipython3",
   "version": "3.11.5"
  }
 },
 "nbformat": 4,
 "nbformat_minor": 5
}
